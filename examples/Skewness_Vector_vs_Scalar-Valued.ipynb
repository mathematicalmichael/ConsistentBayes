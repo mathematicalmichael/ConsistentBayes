{
 "cells": [
  {
   "cell_type": "code",
   "execution_count": 1,
   "metadata": {},
   "outputs": [],
   "source": [
    "import cbayes.sample\n",
    "import cbayes.distributions\n",
    "import cbayes.solve\n",
    "import numpy as np\n",
    "import ipywidgets as wd\n",
    "import matplotlib.pyplot as plt"
   ]
  },
  {
   "cell_type": "markdown",
   "metadata": {},
   "source": [
    "### Define a function that generates an arbitrarily ill-condidtioned 2-2 map\n"
   ]
  },
  {
   "cell_type": "code",
   "execution_count": 2,
   "metadata": {},
   "outputs": [],
   "source": [
    "def make_model(skew):\n",
    "    # this function makes a linear map whos first component is the x-unit vector\n",
    "    # and each subsequent component is a norm-1 vector satisfying the property\n",
    "    # that the 2-2 map made from it and the aforementioned unit vector is a map\n",
    "    # with skewness in skew_range, which is a list of desired skewnesses   \n",
    "    # TODO currently this map only works for 2-D input space     \n",
    "    \n",
    "    def my_model(parameter_samples):\n",
    "        Q_map = [ [1.0, 0.0] ] # all map components have the same norm, rect_size to have measures of events equal btwn spaces.\n",
    "        Q_map.append( [np.sqrt(np.array(skew)**2 - 1), 1] ) # taken with the first component, this leads to a 2-2 map with skewsness 's'\n",
    "        Q_map = np.array( Q_map )\n",
    "        QoI_samples = np.dot(parameter_samples, np.transpose(Q_map))\n",
    "        return QoI_samples\n",
    "    return my_model"
   ]
  },
  {
   "cell_type": "markdown",
   "metadata": {},
   "source": [
    "#### Visualize the contours of this vector-valued map."
   ]
  },
  {
   "cell_type": "markdown",
   "metadata": {},
   "source": [
    "### Generate samples and map them"
   ]
  },
  {
   "cell_type": "code",
   "execution_count": 57,
   "metadata": {},
   "outputs": [],
   "source": [
    "def compare(num_samples=5000, skew=1, prior_std = 1.0, data_std = 0.25, color_map = 'jet', num_levels = 40, seed=12):\n",
    "    obs_data = np.array([0., 0.])\n",
    "    \n",
    "    model = make_model([skew])\n",
    "    mse_fun = cbayes.sample.MSE_generator(model, obs_data, data_std)\n",
    "    \n",
    "    \n",
    "    s_input_set = cbayes.sample.sample_set(size=(num_samples, 2))\n",
    "    s_input_set.set_dist(dim=0, distribution='normal', kwds={'loc': 0, 'scale': prior_std})\n",
    "    s_input_set.set_dist(dim=1, distribution='normal', kwds={'loc': 0, 'scale': prior_std})\n",
    "    input_samples = s_input_set.generate_samples(seed=seed)\n",
    "    \n",
    "    output_samples_vector_valued = model(input_samples)\n",
    "    output_samples_scalar_valued = mse_fun(input_samples).reshape(-1,1)\n",
    "\n",
    "\n",
    "\n",
    "    # VECTOR PROBLEM\n",
    "    s_output_set_vector_valued = cbayes.sample.sample_set(size=(num_samples, 2))\n",
    "    s_output_set_vector_valued.samples = output_samples_vector_valued\n",
    "    p_set_vector = cbayes.sample.problem_set(s_input_set, s_output_set_vector_valued)\n",
    "    # Set observed \n",
    "    p_set_vector.set_observed_dist(dim=0, dist='normal', kwds={'loc': 0, 'scale': data_std})\n",
    "    p_set_vector.set_observed_dist(dim=1, dist='normal', kwds={'loc': 0, 'scale': data_std})\n",
    "    p_set_vector.model = model\n",
    "    \n",
    "    p_set_vector.compute_pushforward_dist()\n",
    "    p_set_vector.set_ratio()\n",
    "    \n",
    "    cbayes.solve.problem(p_set_vector)\n",
    "    accepted_inputs_vector = p_set_vector.input.samples[p_set_vector.accept_inds,:]\n",
    "    print('num accepted for vector-valued:', len(accepted_inputs_vector), 'mean:', np.mean(accepted_inputs_vector))\n",
    "\n",
    "    # SCALAR PROBLEM\n",
    "    s_output_set_scalar_valued = cbayes.sample.sample_set(size=(num_samples, 1))\n",
    "    s_output_set_scalar_valued.samples = output_samples_scalar_valued\n",
    "    p_set_scalar = cbayes.sample.problem_set(s_input_set, s_output_set_scalar_valued)\n",
    "    # Set observed \n",
    "    num_observations = 2\n",
    "    p_set_scalar.set_observed_dist('gamma', {'a':num_observations/2.0, 'scale':2.0/num_observations}, dim=0)\n",
    "    p_set_scalar.model = mse_fun\n",
    "    \n",
    "    p_set_scalar.compute_pushforward_dist()\n",
    "    p_set_scalar.set_ratio()\n",
    "    \n",
    "    cbayes.solve.problem(p_set_scalar)\n",
    "    accepted_inputs_scalar = p_set_scalar.input.samples[p_set_scalar.accept_inds,:]\n",
    "    print('num accepted for scalar-valued:', len(accepted_inputs_scalar), 'mean:', np.mean(accepted_inputs_scalar))\n",
    "    \n",
    "    # PLOTTING\n",
    "    x = input_samples[:,0] \n",
    "    y = input_samples[:,1]\n",
    "    xs = accepted_inputs_scalar[:,0]\n",
    "    ys = accepted_inputs_scalar[:,1]\n",
    "\n",
    "    xv = accepted_inputs_vector[:,0]\n",
    "    yv = accepted_inputs_vector[:,1]\n",
    "    \n",
    "    \n",
    "    fig, axs = plt.subplots(ncols=2, nrows=3, figsize=(12,18))\n",
    "    axs[0,0].tricontour(x, y, output_samples_vector_valued[:,0], num_levels, cmap=color_map)\n",
    "    axs[0,0].tricontour(x, y, output_samples_vector_valued[:,1], num_levels, cmap=color_map)\n",
    "    axs[0,1].tricontour(x, y, output_samples_scalar_valued[:,0], num_levels, cmap=color_map)\n",
    "    \n",
    "    vmin, vmax = 0, 1\n",
    "    axs[1,0].tricontourf(x, y, p_set_vector.ratio/np.max(p_set_vector.ratio), int(num_levels/2), cmap=color_map,\n",
    "                          vmin=vmin, vmax=vmax)\n",
    "    axs[1,1].tricontourf(x, y, p_set_scalar.ratio/np.max(p_set_scalar.ratio), int(num_levels/2), cmap=color_map,\n",
    "                          vmin=vmin, vmax=vmax)\n",
    "\n",
    "    bound_val = 1.0\n",
    "    axs[0,0].axis([-bound_val, bound_val, -bound_val, bound_val])\n",
    "    axs[0,1].axis([-bound_val, bound_val, -bound_val, bound_val])\n",
    "    axs[1,0].axis([-bound_val, bound_val, -bound_val, bound_val])\n",
    "    axs[1,1].axis([-bound_val, bound_val, -bound_val, bound_val])\n",
    "    axs[0,0].scatter(obs_data[0], obs_data[1], 100, 'k')\n",
    "    axs[0,1].scatter(obs_data[0], obs_data[1], 100, 'k')\n",
    "    axs[1,0].scatter(obs_data[0], obs_data[1], 100, 'k')\n",
    "    axs[1,1].scatter(obs_data[0], obs_data[1], 100, 'k')\n",
    "    axs[1,0].scatter(xv, yv, color='w', alpha=0.25)\n",
    "    axs[1,1].scatter(xs, ys, color='w', alpha=0.25)\n",
    "    \n",
    "    num_plot_pts = 100\n",
    "    xx = np.linspace(0, 50, num_plot_pts)\n",
    "#     axs[2,1].plot(xx, p_set_scalar.pushforward_dist.pdf(xx))\n",
    "#     axs[2,1].plot(xx, p_set_scalar.observed_dist.pdf(xx))\n",
    "    \n",
    "    xxx = np.linspace(-bound_val, bound_val,num_plot_pts)\n",
    "    XX, YY = np.meshgrid(xxx,xxx)\n",
    "    lam = np.vstack([XX.ravel(), YY.ravel()]).T\n",
    "#     print(lam.shape)\n",
    "    zzs = p_set_scalar.evaluate_posterior(lam)\n",
    "    zzs = zzs.reshape(num_plot_pts,num_plot_pts)\n",
    "    line0, = axs[2,0].plot(xxx, np.sum(zzs, axis=0), '-', lw=2)\n",
    "    line1, = axs[2,0].plot(xxx, np.sum(zzs, axis=1), '--', lw=2)\n",
    "    plt.legend([line0, line1], ['$\\\\lambda_1$', '$\\\\lambda_2$' ])\n",
    "    \n",
    "    zzv = p_set_vector.evaluate_posterior(lam)\n",
    "    zzv = zzv.reshape(num_plot_pts,num_plot_pts)\n",
    "    line3, = axs[2,1].plot(xxx, np.sum(zzv, axis=0), '-', lw=2)\n",
    "    line4, = axs[2,1].plot(xxx, np.sum(zzv, axis=1), '--', lw=2)\n",
    "    plt.legend([line3, line4], ['$\\\\lambda_1$', '$\\\\lambda_2$' ])\n",
    "    \n",
    "    axs[2,0].vlines(0,0,50, 'k', lw=1)\n",
    "    axs[2,1].vlines(0,0,50, 'k', lw=1)\n",
    "    axs[2,1].axis([-bound_val, bound_val, 0, 300])\n",
    "    axs[2,0].axis([-bound_val, bound_val, 0, 300])\n",
    "    plt.show()\n",
    "\n"
   ]
  },
  {
   "cell_type": "code",
   "execution_count": 58,
   "metadata": {},
   "outputs": [
    {
     "data": {
      "application/vnd.jupyter.widget-view+json": {
       "model_id": "4dd019d721c743b9a093955b64b597cb",
       "version_major": 2,
       "version_minor": 0
      },
      "text/plain": [
       "interactive(children=(IntSlider(value=1000, continuous_update=False, description='num_samples', max=10000, min…"
      ]
     },
     "metadata": {},
     "output_type": "display_data"
    }
   ],
   "source": [
    "colormaps = ['viridis', 'plasma', 'inferno', 'magma', 'jet', \n",
    "             'Greys', 'Purples', 'Blues', 'Greens', 'Oranges', 'Reds',\n",
    "            'YlOrBr', 'YlOrRd', 'OrRd', 'PuRd', 'RdPu', 'BuPu',\n",
    "            'GnBu', 'PuBu', 'YlGnBu', 'PuBuGn', 'BuGn', 'YlGn']\n",
    "\n",
    "out = wd.interact(compare, \n",
    "            num_samples = wd.IntSlider(value=1000, min=1000, max=10000, step=100, continuous_update=False), \n",
    "            skew = wd.FloatSlider(value=1.0, min=1.0, max=4.0, step=0.05, continuous_update=False), \n",
    "            prior_std = wd.FloatSlider(value=1.0, min=0.5, max=3.0, step=0.05, continuous_update=False), \n",
    "            data_std = wd.FloatSlider(value=0.25, min=0.05, max=1, step=0.05, continuous_update=False), \n",
    "            color_map = wd.Dropdown(value='jet', options=colormaps), \n",
    "            num_levels = wd.IntSlider(value=40, min=20, max=100, step=5, continuous_update=False),\n",
    "            seed = wd.IntSlider(value=0, min=0, max=1000, step=1, continuous_update=False) )"
   ]
  },
  {
   "cell_type": "code",
   "execution_count": null,
   "metadata": {},
   "outputs": [],
   "source": []
  },
  {
   "cell_type": "code",
   "execution_count": null,
   "metadata": {},
   "outputs": [],
   "source": []
  }
 ],
 "metadata": {
  "kernelspec": {
   "display_name": "py3",
   "language": "python",
   "name": "py3"
  },
  "language_info": {
   "codemirror_mode": {
    "name": "ipython",
    "version": 3
   },
   "file_extension": ".py",
   "mimetype": "text/x-python",
   "name": "python",
   "nbconvert_exporter": "python",
   "pygments_lexer": "ipython3",
   "version": "3.6.4"
  }
 },
 "nbformat": 4,
 "nbformat_minor": 2
}
